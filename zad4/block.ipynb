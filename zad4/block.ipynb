{
 "cells": [
  {
   "cell_type": "code",
   "execution_count": 1,
   "metadata": {},
   "outputs": [],
   "source": [
    "from Crypto.Cipher import AES\n",
    "from Crypto.Random import get_random_bytes\n",
    "from Crypto.Util.Padding import pad, unpad\n",
    "from PIL import Image\n",
    "import numpy as np\n",
    "modes = [AES.MODE_ECB, AES.MODE_CBC, AES.MODE_OFB, AES.MODE_CFB, AES.MODE_CTR]\n",
    "is_iv_needed_modes = [False, True, True, True, False]\n",
    "files = ['maly_pingwinek.png', 'sredni_pingwinek.png', 'duzy_pingwinek.png']\n",
    "key = get_random_bytes(16)"
   ]
  },
  {
   "cell_type": "code",
   "execution_count": 13,
   "metadata": {},
   "outputs": [],
   "source": [
    "def byte_xor(bytes1: bytes, bytes2: bytes):\n",
    "    xored = b''\n",
    "    for b1, b2 in zip(bytes1, bytes2):\n",
    "        newi = b1 ^ b2\n",
    "        newb = newi.to_bytes()\n",
    "        xored += newb\n",
    "    return xored"
   ]
  },
  {
   "cell_type": "code",
   "execution_count": 2,
   "metadata": {},
   "outputs": [],
   "source": [
    "for mode, is_iv_needed in zip(modes, is_iv_needed_modes):\n",
    "    cipher = None\n",
    "    if is_iv_needed:\n",
    "        iv = get_random_bytes(AES.block_size)\n",
    "        cipher = AES.new(key=key, mode=mode, iv=iv)\n",
    "    else:\n",
    "        cipher = AES.new(key=key, mode=mode)\n",
    "    for file in files:\n",
    "        img = Image.open(file)\n",
    "        bytes = img.tobytes()\n",
    "        bytes = pad(bytes, AES.block_size)\n",
    "        en_bytes = cipher.encrypt(bytes)\n",
    "        with open('pingwiny/{}_{}'.format(mode, file[:-4]), mode='wb') as f:\n",
    "            f.write(en_bytes)"
   ]
  },
  {
   "cell_type": "code",
   "execution_count": 16,
   "metadata": {},
   "outputs": [],
   "source": [
    "for mode, is_iv_needed in zip(modes, is_iv_needed_modes):\n",
    "    cipher = None\n",
    "    if is_iv_needed:\n",
    "        iv = get_random_bytes(AES.block_size)\n",
    "        cipher = AES.new(key=key, mode=mode, iv=iv)\n",
    "        err_cipher = AES.new(key=key, mode=mode, iv=iv)\n",
    "    else:\n",
    "        cipher = AES.new(key=key, mode=mode)\n",
    "        err_cipher = AES.new(key=key, mode=mode)\n",
    "    for file in files:\n",
    "        img = Image.open(file)\n",
    "        byte_img = img.tobytes()\n",
    "        byte_img = pad(byte_img, AES.block_size)\n",
    "        en_bytes = cipher.encrypt(byte_img)\n",
    "        error = bytes.fromhex('0001')\n",
    "        err_bytes = byte_xor(en_bytes[:2], error) + en_bytes[2:]\n",
    "        de_bytes = err_cipher.decrypt(err_bytes)\n",
    "        with open('pingwiny/err_file_{}_{}'.format(mode, file[:-4]), mode='wb') as f:\n",
    "            f.write(de_bytes)"
   ]
  },
  {
   "cell_type": "code",
   "execution_count": 17,
   "metadata": {},
   "outputs": [],
   "source": [
    "err_key = byte_xor(key, (bytes.fromhex('0001') + b'\\0' * 14))\n",
    "for mode, is_iv_needed in zip(modes, is_iv_needed_modes):\n",
    "    cipher = None\n",
    "    if is_iv_needed:\n",
    "        iv = get_random_bytes(AES.block_size)\n",
    "        cipher = AES.new(key=key, mode=mode, iv=iv)\n",
    "        err_cipher = AES.new(key=err_key, mode=mode, iv=iv)\n",
    "    else:\n",
    "        cipher = AES.new(key=key, mode=mode)\n",
    "        err_cipher = AES.new(key=err_key, mode=mode)\n",
    "    for file in files:\n",
    "        img = Image.open(file)\n",
    "        bytes = img.tobytes()\n",
    "        bytes = pad(bytes, AES.block_size)\n",
    "        en_bytes = cipher.encrypt(bytes)\n",
    "        de_bytes = err_cipher.decrypt(en_bytes)\n",
    "        with open('pingwiny/err_key_{}_{}'.format(mode, file[:-4]), mode='wb') as f:\n",
    "            f.write(de_bytes)"
   ]
  },
  {
   "cell_type": "code",
   "execution_count": null,
   "metadata": {},
   "outputs": [],
   "source": []
  }
 ],
 "metadata": {
  "kernelspec": {
   "display_name": "pythonProject",
   "language": "python",
   "name": "python3"
  },
  "language_info": {
   "codemirror_mode": {
    "name": "ipython",
    "version": 3
   },
   "file_extension": ".py",
   "mimetype": "text/x-python",
   "name": "python",
   "nbconvert_exporter": "python",
   "pygments_lexer": "ipython3",
   "version": "3.12.1"
  }
 },
 "nbformat": 4,
 "nbformat_minor": 2
}
