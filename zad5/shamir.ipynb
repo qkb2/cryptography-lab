{
 "cells": [
  {
   "cell_type": "code",
   "execution_count": 1,
   "metadata": {},
   "outputs": [],
   "source": [
    "import numpy as np\n",
    "from scipy.interpolate import lagrange"
   ]
  },
  {
   "cell_type": "code",
   "execution_count": 2,
   "metadata": {},
   "outputs": [],
   "source": [
    "# param. to change etc.\n",
    "k = 1000\n",
    "s = 954\n",
    "n = 4\n",
    "t = 2"
   ]
  },
  {
   "cell_type": "code",
   "execution_count": 3,
   "metadata": {},
   "outputs": [],
   "source": [
    "import random\n",
    "\n",
    "def sieve(num: int):\n",
    "    prime = [True for _ in range(num+1)]\n",
    "    p = 2\n",
    "    while (p * p <= num):\n",
    " \n",
    "        # If prime[p] is not changed, then it is a prime\n",
    "        if (prime[p] == True):\n",
    "            # Updating all multiples of p\n",
    "            for i in range(p * p, num+1, p):\n",
    "                prime[i] = False\n",
    "        p += 1\n",
    " \n",
    "    primes = []\n",
    "    # return all prime numbers\n",
    "    for p in range(num, 1, -1):\n",
    "        if prime[p]:\n",
    "            primes.append(p)\n",
    "            \n",
    "    return primes\n",
    "\n",
    "def random_prime(a=1000, b=10_0000):\n",
    "    primes = sieve(b)\n",
    "    i = 0\n",
    "    while primes[i] > a:\n",
    "        i += 1\n",
    "    idx = random.randint(0, i-1)\n",
    "    return primes[idx]"
   ]
  },
  {
   "cell_type": "code",
   "execution_count": 4,
   "metadata": {},
   "outputs": [
    {
     "name": "stdout",
     "output_type": "stream",
     "text": [
      "75169\n",
      " \n",
      "851 x + 954\n",
      "[(1, 1805), (2, 2656), (3, 3507), (4, 4358)]\n"
     ]
    }
   ],
   "source": [
    "p = random_prime()\n",
    "print(p)\n",
    "\n",
    "a_vec = [random.randint(10, 1000) for _ in range(t-1)]\n",
    "a_vec.append(s)\n",
    "poly = np.poly1d(a_vec)\n",
    "print(poly)\n",
    "\n",
    "s_vec = [(i, poly(i)%p) for i in range(1, n+1)]\n",
    "print(s_vec)"
   ]
  },
  {
   "cell_type": "code",
   "execution_count": 5,
   "metadata": {},
   "outputs": [
    {
     "name": "stdout",
     "output_type": "stream",
     "text": [
      "[(1, 1805), (2, 2656)]\n",
      "[851. 954.]\n",
      "954.0\n",
      "[(1, 1805)]\n",
      "[1805.]\n"
     ]
    }
   ],
   "source": [
    "# choose k members from s_vec\n",
    "chosen_shares = s_vec[:t]\n",
    "print(chosen_shares)\n",
    "x = [s[0] for s in chosen_shares]\n",
    "w = [s[1] for s in chosen_shares]\n",
    "poly_check = lagrange(x, w)\n",
    "print(poly_check.coef)\n",
    "secret_check = poly_check.coef[-1] % p\n",
    "print(secret_check)\n",
    "\n",
    "err_chosen = s_vec[:t-1]\n",
    "print(err_chosen)\n",
    "x = [s[0] for s in err_chosen]\n",
    "w = [s[1] for s in err_chosen]\n",
    "poly_check = lagrange(x, w)\n",
    "print(poly_check.coef)"
   ]
  }
 ],
 "metadata": {
  "kernelspec": {
   "display_name": ".venv",
   "language": "python",
   "name": "python3"
  },
  "language_info": {
   "codemirror_mode": {
    "name": "ipython",
    "version": 3
   },
   "file_extension": ".py",
   "mimetype": "text/x-python",
   "name": "python",
   "nbconvert_exporter": "python",
   "pygments_lexer": "ipython3",
   "version": "3.12.1"
  }
 },
 "nbformat": 4,
 "nbformat_minor": 2
}
