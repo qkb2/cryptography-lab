{
 "cells": [
  {
   "cell_type": "code",
   "execution_count": 1,
   "metadata": {},
   "outputs": [],
   "source": [
    "import random\n",
    "import math"
   ]
  },
  {
   "cell_type": "code",
   "execution_count": 2,
   "metadata": {},
   "outputs": [],
   "source": [
    "def sieve(num: int):\n",
    "    prime = [True for _ in range(num+1)]\n",
    "    p = 2\n",
    "    while (p * p <= num):\n",
    " \n",
    "        # If prime[p] is not changed, then it is a prime\n",
    "        if (prime[p] == True):\n",
    "            # Updating all multiples of p\n",
    "            for i in range(p * p, num+1, p):\n",
    "                prime[i] = False\n",
    "        p += 1\n",
    " \n",
    "    primes = []\n",
    "    # return all prime numbers\n",
    "    for p in range(num, 1, -1):\n",
    "        if prime[p]:\n",
    "            primes.append(p)\n",
    "            \n",
    "    return primes\n",
    "\n",
    "def create_coprime(N: int, panic_bound=1000, a=1000, b=10000):\n",
    "    panic_counter = 0\n",
    "    x = 0\n",
    "    while panic_counter < panic_bound:\n",
    "        panic_counter += 1\n",
    "        x = random.randint(a, b)\n",
    "        gcd = math.gcd(x, N)\n",
    "        if gcd == 1:\n",
    "            return x\n",
    "    return -1\n",
    "\n",
    "def generate_d(e, phi, a=100000, b=1000000):\n",
    "    d = random.randint(a, b)\n",
    "    while d < 1e10:\n",
    "        if e*d % phi == 1:\n",
    "            return d\n",
    "        else:\n",
    "            d += 1\n",
    "    return -1\n",
    "\n",
    "class RSA:\n",
    "    def __init__(self, bound=int(10000)) -> None:\n",
    "        primes = sieve(bound)\n",
    "        high_bound = primes[100]\n",
    "        low_bound = primes[120]\n",
    "        panic = primes[0]\n",
    "        primes = primes[1:100]\n",
    "        a = random.randint(1,100)\n",
    "        a += (1 - a % 2) \n",
    "        a %= 100\n",
    "        b = random.randint(1,100)\n",
    "        b += (2 - a % 2)\n",
    "        b %= 100\n",
    "        print(a,b)\n",
    "        self.p = primes[a]\n",
    "        self.q = primes[b]\n",
    "        self.N = self.p * self.q\n",
    "        self.phi = (self.p - 1) * (self.q - 1)\n",
    "        self.e = create_coprime(self.phi)\n",
    "        print(self.p, self.q, self.N, self.phi, self.e)\n",
    "        if self.e == -1:\n",
    "            self.e = panic\n",
    "        self.d = generate_d(self.e, self.phi)\n",
    "        if self.d == -1:\n",
    "            raise Exception(\"Eror\")"
   ]
  },
  {
   "cell_type": "code",
   "execution_count": 3,
   "metadata": {},
   "outputs": [
    {
     "name": "stdout",
     "output_type": "stream",
     "text": [
      "31 91\n",
      "9697 9173 88950581 88931712 8425\n"
     ]
    }
   ],
   "source": [
    "rsa = RSA()"
   ]
  },
  {
   "cell_type": "code",
   "execution_count": 10,
   "metadata": {},
   "outputs": [],
   "source": [
    "class RSAServer():\n",
    "    def __init__(self, e, d, n) -> None:\n",
    "        self.e = e\n",
    "        self.d = d\n",
    "        self.n = n\n",
    "    \n",
    "    def cypher(self, m: int):\n",
    "        return pow(m, self.e, self.n)\n",
    "    \n",
    "    def decypher(self, c: int):\n",
    "        return pow(c, self.d, self.n)\n",
    "    \n",
    "    def decrypt_msg(self, m):\n",
    "        dec_m = ''\n",
    "        for c in m:\n",
    "            dec_m += chr(self.decypher(c))\n",
    "        return dec_m\n",
    "    \n",
    "    \n",
    "class RSAClient():\n",
    "    def __init__(self, e, n) -> None:\n",
    "        self.e = e\n",
    "        self.n = n\n",
    "        \n",
    "    def encrypt_num(self, m: int):\n",
    "        return pow(m, self.e, self.n)\n",
    "    \n",
    "    def encrypt_msg(self, m: str):\n",
    "        arr = bytearray(m, 'ascii')\n",
    "        enc_m = []\n",
    "        for c in arr:\n",
    "            enc_m.append(self.encrypt_num(c))\n",
    "        return enc_m"
   ]
  },
  {
   "cell_type": "code",
   "execution_count": 12,
   "metadata": {},
   "outputs": [
    {
     "name": "stdout",
     "output_type": "stream",
     "text": [
      "54336741\n",
      "4200\n",
      "[88594899, 72455313, 6157318, 2709254, 72455313, 62445687, 38897925, 15703905, 72455313, 41357872, 14351381, 45933099, 14351381, 85253325, 46281376, 62445687, 73740601, 18418682, 2709254, 88594899, 85481815, 51668443, 76523214]\n",
      "tajna wiadomosc hunter2\n"
     ]
    }
   ],
   "source": [
    "server = RSAServer(rsa.e, rsa.d, rsa.N)\n",
    "client = RSAClient(rsa.e, rsa.N)\n",
    "c = client.encrypt_num(4200)\n",
    "print(c)\n",
    "m = server.decypher(c)\n",
    "print(m)\n",
    "\n",
    "c = client.encrypt_msg('tajna wiadomosc hunter2')\n",
    "print(c)\n",
    "m = server.decrypt_msg(c)\n",
    "print(m)"
   ]
  }
 ],
 "metadata": {
  "kernelspec": {
   "display_name": "data_env",
   "language": "python",
   "name": "python3"
  },
  "language_info": {
   "codemirror_mode": {
    "name": "ipython",
    "version": 3
   },
   "file_extension": ".py",
   "mimetype": "text/x-python",
   "name": "python",
   "nbconvert_exporter": "python",
   "pygments_lexer": "ipython3",
   "version": "3.11.3"
  }
 },
 "nbformat": 4,
 "nbformat_minor": 2
}
