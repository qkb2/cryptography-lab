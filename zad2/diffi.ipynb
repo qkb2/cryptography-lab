{
 "cells": [
  {
   "cell_type": "code",
   "execution_count": 1,
   "metadata": {},
   "outputs": [],
   "source": [
    "import random\n",
    "\n",
    "def sieve(num: int):\n",
    "    prime = [True for _ in range(num+1)]\n",
    "    p = 2\n",
    "    while (p * p <= num):\n",
    " \n",
    "        # If prime[p] is not changed, then it is a prime\n",
    "        if (prime[p] == True):\n",
    "            # Updating all multiples of p\n",
    "            for i in range(p * p, num+1, p):\n",
    "                prime[i] = False\n",
    "        p += 1\n",
    " \n",
    "    primes = []\n",
    "    # return all prime numbers\n",
    "    for p in range(num, 1, -1):\n",
    "        if prime[p]:\n",
    "            primes.append(p)\n",
    "            \n",
    "    return primes\n",
    "\n",
    "def is_primitive_root(g, n):\n",
    "    s = set()\n",
    "    gp = g\n",
    "    for _ in range(n):\n",
    "        m = gp % n\n",
    "        s.add(m)\n",
    "        gp *= g\n",
    "    return len(s) == n-1\n",
    "\n",
    "class DHClient():\n",
    "    def make_n():\n",
    "        return sieve(random.randint(10000, 20000))[0]\n",
    "    \n",
    "    def make_g(n: int):\n",
    "        start = random.randint(0, n)\n",
    "        for i in range(start, n):\n",
    "            if is_primitive_root(i, n):\n",
    "                return i\n",
    "        for i in range(2, start):\n",
    "            if is_primitive_root(i, n):\n",
    "                return i\n",
    "        return -1\n",
    "    \n",
    "    def set_params(self, n, g):\n",
    "        self.n = n\n",
    "        self.g = g\n",
    "        self.x = sieve(random.randint(10000, 20000))[0]\n",
    "        self.X = pow(g, self.x, n)\n",
    "    \n",
    "    def get_X(self):\n",
    "        return self.X\n",
    "    \n",
    "    def set_Y(self, Y):\n",
    "        self.Y = Y\n",
    "        self.k = pow(self.Y, self.x, self.n)\n",
    "        \n",
    "    def get_key(self):\n",
    "        return self.k"
   ]
  },
  {
   "cell_type": "code",
   "execution_count": 2,
   "metadata": {},
   "outputs": [
    {
     "name": "stdout",
     "output_type": "stream",
     "text": [
      "14139 16339\n",
      "13089 13089\n"
     ]
    }
   ],
   "source": [
    "client1 = DHClient()\n",
    "client2 = DHClient()\n",
    "n = DHClient.make_n()\n",
    "g = DHClient.make_g(n)\n",
    "print(g, n)\n",
    "client1.set_params(n, g)\n",
    "client2.set_params(n, g)\n",
    "X = client1.get_X()\n",
    "Y = client2.get_X()\n",
    "client1.set_Y(Y)\n",
    "client2.set_Y(X)\n",
    "print(client1.k, client2.k)"
   ]
  }
 ],
 "metadata": {
  "kernelspec": {
   "display_name": "data_env",
   "language": "python",
   "name": "python3"
  },
  "language_info": {
   "codemirror_mode": {
    "name": "ipython",
    "version": 3
   },
   "file_extension": ".py",
   "mimetype": "text/x-python",
   "name": "python",
   "nbconvert_exporter": "python",
   "pygments_lexer": "ipython3",
   "version": "3.11.3"
  }
 },
 "nbformat": 4,
 "nbformat_minor": 2
}
